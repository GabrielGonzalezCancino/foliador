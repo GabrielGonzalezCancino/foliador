{
 "cells": [
  {
   "cell_type": "code",
   "execution_count": 49,
   "id": "3c996876",
   "metadata": {},
   "outputs": [],
   "source": [
    "from tkinter import *\n",
    "\n",
    "raiz = Tk()\n",
    "raiz.title(\"Foliador de notaria\")\n",
    "#raiz.geometry(\"650x350\")\n",
    "#raiz.resizable(False,False)\n",
    "raiz.config(bg=\"red\")\n",
    "#miframe=Frame(width=\"650\" , height=\"350\")\n",
    "miFrame= Frame()\n",
    "\n",
    "miFrame.pack(fill=\"both\",expand=\"true\")\n",
    "miFrame.config(bg=\"blue\")\n",
    "miFrame=Frame(width=\"1000\" , height=\"300\")\n",
    "miFrame.config(relief=\"groove\")\n",
    "\n",
    "\n",
    "raiz.mainloop()"
   ]
  },
  {
   "cell_type": "code",
   "execution_count": null,
   "id": "ba383d6c",
   "metadata": {},
   "outputs": [],
   "source": []
  },
  {
   "cell_type": "code",
   "execution_count": null,
   "id": "695765d7",
   "metadata": {},
   "outputs": [],
   "source": []
  },
  {
   "cell_type": "code",
   "execution_count": null,
   "id": "236c230f",
   "metadata": {},
   "outputs": [],
   "source": []
  }
 ],
 "metadata": {
  "kernelspec": {
   "display_name": "Python 3",
   "language": "python",
   "name": "python3"
  },
  "language_info": {
   "codemirror_mode": {
    "name": "ipython",
    "version": 3
   },
   "file_extension": ".py",
   "mimetype": "text/x-python",
   "name": "python",
   "nbconvert_exporter": "python",
   "pygments_lexer": "ipython3",
   "version": "3.8.8"
  }
 },
 "nbformat": 4,
 "nbformat_minor": 5
}
