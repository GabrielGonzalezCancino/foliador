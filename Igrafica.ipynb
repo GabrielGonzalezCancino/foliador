{
 "cells": [
  {
   "cell_type": "code",
   "execution_count": 5,
   "id": "3c996876",
   "metadata": {},
   "outputs": [],
   "source": [
    "from tkinter import *\n",
    "import tkinter as tk\n",
    "\n",
    "raiz = Tk()\n",
    "\n",
    "\n",
    "raiz.title(\"Foliador de notaria\")\n",
    "#raiz.geometry(\"650x350\")\n",
    "#raiz.resizable(False,False)\n",
    "raiz.config(bg=\"blue\")\n",
    "#raiz.attributes('-alpha', 0.7)\n",
    "#miframe=Frame(width=\"650\" , height=\"350\")\n",
    "miFrame= Frame()\n",
    "\n",
    "miFrame.pack()\n",
    "miFrame.config(bg=\"#f4f1f1\")\n",
    "miFrame.config(bd=20)\n",
    "miFrame.config(width=\"670\" , height=\"300\")\n",
    "miFrame.config(relief=\"groove\")\n",
    "\n",
    "\n",
    "\n",
    "\n",
    "#labels\n",
    "Label(miFrame, text=\"Pagina Inicial\",bg=\"#f4f1f1\", font=(\"Comic Sans MS\",12)).place(x=30, y=30)\n",
    "Label(miFrame, text=\"Pagina Final\",bg=\"#f4f1f1\", font=(\"Comic Sans MS\",12)).place(x=370, y=30)\n",
    "\n",
    "#imagen\n",
    "miImagen=PhotoImage(file=\"logo,notaria.png\")\n",
    "Label(miFrame, image=miImagen ,bg=\"#f4f1f1\").place(x=10, y=65)\n",
    "\n",
    "\n",
    "#cuadro de texto\n",
    "\n",
    "cuadroInicial=Entry(miFrame)\n",
    "cuadroInicial.place(x=140, y=35)\n",
    "\n",
    "cuadroFinal=Entry(miFrame)\n",
    "cuadroFinal.place(x=465, y=35)\n",
    "\n",
    "#boton de envio\n",
    "def codigoBoton():\n",
    "  x.set(\"hola\")  \n",
    "botonEnvio=Button(miFrame,text=\"Aceptar\", command=codigoBoton).place(x=315, y=200)\n",
    "botonEnvio=Button(miFrame,text=\"Salir\", command=raiz.destroy,).place(x=370, y=200)\n",
    "raiz.mainloop()"
   ]
  },
  {
   "cell_type": "code",
   "execution_count": 31,
   "id": "f5ba3798-d5df-4c00-82c8-47ef2e47e184",
   "metadata": {},
   "outputs": [
    {
     "name": "stdout",
     "output_type": "stream",
     "text": [
      "22\n",
      "22\n"
     ]
    },
    {
     "ename": "AttributeError",
     "evalue": "'function' object has no attribute 'variable'",
     "output_type": "error",
     "traceback": [
      "\u001b[1;31m---------------------------------------------------------------------------\u001b[0m",
      "\u001b[1;31mAttributeError\u001b[0m                            Traceback (most recent call last)",
      "\u001b[1;32m<ipython-input-31-e8383bd53c5b>\u001b[0m in \u001b[0;36m<module>\u001b[1;34m\u001b[0m\n\u001b[0;32m     42\u001b[0m \u001b[1;33m\u001b[0m\u001b[0m\n\u001b[0;32m     43\u001b[0m \u001b[1;33m\u001b[0m\u001b[0m\n\u001b[1;32m---> 44\u001b[1;33m \u001b[0mprint\u001b[0m\u001b[1;33m(\u001b[0m\u001b[0mcodigoBoton\u001b[0m\u001b[1;33m.\u001b[0m\u001b[0mvariable\u001b[0m\u001b[1;33m)\u001b[0m\u001b[1;33m\u001b[0m\u001b[1;33m\u001b[0m\u001b[0m\n\u001b[0m",
      "\u001b[1;31mAttributeError\u001b[0m: 'function' object has no attribute 'variable'"
     ]
    }
   ],
   "source": [
    "from tkinter import *\n",
    "import tkinter as tk\n",
    "\n",
    "raiz = Tk()\n",
    "\n",
    "variable=0\n",
    "\n",
    "raiz.title(\"Foliador de notaria\")\n",
    "#raiz.geometry(\"650x350\")\n",
    "#raiz.resizable(False,False)\n",
    "raiz.config(bg=\"blue\")\n",
    "#raiz.attributes('-alpha', 0.7)\n",
    "#miframe=Frame(width=\"650\" , height=\"350\")\n",
    "\n",
    "\n",
    "\n",
    "\n",
    "\n",
    "\n",
    "#boton de envio\n",
    "def codigoBoton():\n",
    "    variable = cuadro.get()\n",
    "    print(variable)\n",
    "    return variable\n",
    "   \n",
    "    \n",
    "    \n",
    "#cuadro de texto\n",
    "\n",
    "cuadro=Entry(raiz)\n",
    "cuadro.pack()\n",
    "\n",
    "\n",
    "\n",
    "botonEnvio=Button(raiz,text=\"Aceptar\", command=codigoBoton).pack()\n",
    "botonsalr=Button(raiz,text=\"Salir\", command=raiz.destroy,).pack()\n",
    "\n",
    "\n",
    "\n",
    "raiz.mainloop()\n",
    "\n",
    "\n",
    "\n",
    "\n"
   ]
  },
  {
   "cell_type": "code",
   "execution_count": 33,
   "id": "236c230f",
   "metadata": {},
   "outputs": [
    {
     "name": "stdout",
     "output_type": "stream",
     "text": [
      "4\n"
     ]
    }
   ],
   "source": [
    "    # just an example \n",
    "    def func(): # define a function\n",
    "       func.y = 4 # here y is a local variable, which I want to access; func.y defines \n",
    "                  # a method for my example function which will allow me to access \n",
    "                  # function's local variable y\n",
    "       x = func.y + 8 # this is the main task for the function: what it should do\n",
    "       return x\n",
    "\n",
    "    func() # now I'm calling the function\n",
    "    a = func.y # I put it's local variable into my new variable\n",
    "    print(a) # and print my new variable"
   ]
  },
  {
   "cell_type": "code",
   "execution_count": null,
   "id": "b91c1ac6",
   "metadata": {},
   "outputs": [],
   "source": []
  }
 ],
 "metadata": {
  "kernelspec": {
   "display_name": "Python 3",
   "language": "python",
   "name": "python3"
  },
  "language_info": {
   "codemirror_mode": {
    "name": "ipython",
    "version": 3
   },
   "file_extension": ".py",
   "mimetype": "text/x-python",
   "name": "python",
   "nbconvert_exporter": "python",
   "pygments_lexer": "ipython3",
   "version": "3.8.8"
  }
 },
 "nbformat": 4,
 "nbformat_minor": 5
}
