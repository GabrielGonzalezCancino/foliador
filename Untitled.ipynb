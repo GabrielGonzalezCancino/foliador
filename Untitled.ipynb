{
 "cells": [
  {
   "cell_type": "code",
   "execution_count": 50,
   "id": "ae601609",
   "metadata": {},
   "outputs": [],
   "source": [
    "def numero_to_letras(numero):\n",
    "    indicador = [(\"\",\"\"),(\"MIL\",\"MIL\"),(\"MILLON\",\"MILLONES\"),(\"MIL\",\"MIL\"),(\"BILLON\",\"BILLONES\")]\n",
    "    entero = int(numero)\n",
    "    decimal = int(round((numero - entero)*100))\n",
    "\t#print 'decimal : ',decimal \n",
    "    contador = 0\n",
    "    numero_letras = \"\"\n",
    "    while entero >0:\n",
    "        a = entero % 1000\n",
    "        if contador == 0:\n",
    "            en_letras = convierte_cifra(a,1).strip()\n",
    "        else :\n",
    "            en_letras = convierte_cifra(a,0).strip()\n",
    "        if a==0:\n",
    "            numero_letras = en_letras+\" \"+numero_letras\n",
    "        elif a==1:\n",
    "            if contador in (1,3):\n",
    "                numero_letras = indicador[contador][0]+\" \"+numero_letras\n",
    "            else:\n",
    "                numero_letras = en_letras+\" \"+indicador[contador][0]+\" \"+numero_letras\n",
    "        else:\n",
    "            numero_letras = en_letras+\" \"+indicador[contador][1]+\" \"+numero_letras\n",
    "        numero_letras = numero_letras.strip()\n",
    "        contador = contador + 1\n",
    "        entero = int(entero / 1000)\n",
    "    numero_letras = numero_letras\n",
    "    #print ('numero: ',numero)\n",
    "    print (numero_letras)\n",
    " \n"
   ]
  },
  {
   "cell_type": "code",
   "execution_count": 42,
   "id": "c70cfa74",
   "metadata": {},
   "outputs": [],
   "source": [
    "def convierte_cifra(numero,sw):\n",
    "    lista_centana = [\"\",(\"CIEN\",\"CIENTO\"),\"DOSCIENTOS\",\"TRESCIENTOS\",\"CUATROCIENTOS\",\"QUINIENTOS\",\"SEISCIENTOS\",\"SETECIENTOS\",\"OCHOCIENTOS\",\"NOVECIENTOS\"]\n",
    "    lista_decena = [\"\",(\"DIEZ\",\"ONCE\",\"DOCE\",\"TRECE\",\"CATORCE\",\"QUINCE\",\"DIECISEIS\",\"DIECISIETE\",\"DIECIOCHO\",\"DIECINUEVE\"),(\"VEINTE\",\"VEINTI\"),(\"TREINTA\",\"TREINTA Y \"),(\"CUARENTA\" , \"CUARENTA Y \"),(\"CINCUENTA\" , \"CINCUENTA Y \"),(\"SESENTA\" , \"SESENTA Y \"),(\"SETENTA\" , \"SETENTA Y \"),(\"OCHENTA\" , \"OCHENTA Y \"),(\"NOVENTA\" , \"NOVENTA Y \")]\n",
    "    lista_unidad = [\"\",(\"UN\" , \"UNO\"),\"DOS\",\"TRES\",\"CUATRO\",\"CINCO\",\"SEIS\",\"SIETE\",\"OCHO\",\"NUEVE\"]\n",
    "    centena = int (numero / 100)\n",
    "    decena = int((numero -(centena * 100))/10)\n",
    "    unidad = int(numero - (centena * 100 + decena * 10))\n",
    "\t#print \"centena: \",centena, \"decena: \",decena,'unidad: ',unidad\n",
    " \n",
    "    texto_centena = \"\"\n",
    "    texto_decena = \"\"\n",
    "    texto_unidad = \"\"\n",
    "\t#Validad las centenas\n",
    "    texto_centena = lista_centana[centena]\n",
    "    if centena == 1:\n",
    "        if (decena + unidad)!=0:\n",
    "            texto_centena = texto_centena[1]\n",
    "        else :\n",
    "            texto_centena = texto_centena[0]\n",
    " \n",
    "\t#Valida las decenas\n",
    "    texto_decena = lista_decena[decena]\n",
    "    if decena == 1:\n",
    "        texto_decena = texto_decena[unidad]\n",
    "    if decena > 1:\n",
    "        if unidad != 0 :\n",
    "            texto_decena = texto_decena[1]\n",
    "        else:\n",
    "            texto_decena = texto_decena[0]\n",
    " \t#Validar las unidades\n",
    " \t#print \"texto_unidad: \",texto_unidad\n",
    "    if decena != 1:\n",
    "        texto_unidad = lista_unidad[unidad]\n",
    "        if unidad == 1:\n",
    "            texto_unidad = texto_unidad[sw]\n",
    "    return \"%s %s %s\" %(texto_centena,texto_decena,texto_unidad)"
   ]
  },
  {
   "cell_type": "code",
   "execution_count": 54,
   "id": "f5f29cb7",
   "metadata": {},
   "outputs": [
    {
     "name": "stdout",
     "output_type": "stream",
     "text": [
      "DOSCIENTOS TREINTA Y  DOS MIL DIEZ\n"
     ]
    }
   ],
   "source": [
    "numero_to_letras(232010)"
   ]
  },
  {
   "cell_type": "code",
   "execution_count": null,
   "id": "a5e4181b",
   "metadata": {},
   "outputs": [],
   "source": []
  }
 ],
 "metadata": {
  "kernelspec": {
   "display_name": "Python 3",
   "language": "python",
   "name": "python3"
  },
  "language_info": {
   "codemirror_mode": {
    "name": "ipython",
    "version": 3
   },
   "file_extension": ".py",
   "mimetype": "text/x-python",
   "name": "python",
   "nbconvert_exporter": "python",
   "pygments_lexer": "ipython3",
   "version": "3.8.8"
  }
 },
 "nbformat": 4,
 "nbformat_minor": 5
}
