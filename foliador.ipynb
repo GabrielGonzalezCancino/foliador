{
 "cells": [
  {
   "cell_type": "code",
   "execution_count": 26,
   "metadata": {},
   "outputs": [],
   "source": [
    "import os\n",
    "import docx\n",
    "import io\n",
    "import sys\n",
    "import win32print\n",
    "import time\n",
    "from docx.enum.text import WD_ALIGN_PARAGRAPH"
   ]
  },
  {
   "cell_type": "code",
   "execution_count": 27,
   "metadata": {},
   "outputs": [],
   "source": [
    "doc =docx.Document('boceto.docx')"
   ]
  },
  {
   "cell_type": "code",
   "execution_count": 28,
   "metadata": {},
   "outputs": [],
   "source": [
    "def numero_to_letras(numero):\n",
    "    indicador = [(\"\",\"\"),(\"MIL\",\"MIL\"),(\"MILLON\",\"MILLONES\"),(\"MIL\",\"MIL\"),(\"BILLON\",\"BILLONES\")]\n",
    "    entero = int(numero)\n",
    "    decimal = int(round((numero - entero)*100))\n",
    "\t#print 'decimal : ',decimal \n",
    "    contador = 0\n",
    "    numero_letras = \"\"\n",
    "    while entero >0:\n",
    "        a = entero % 1000\n",
    "        if contador == 0:\n",
    "            en_letras = convierte_cifra(a,1).strip()\n",
    "        else :\n",
    "            en_letras = convierte_cifra(a,0).strip()\n",
    "        if a==0:\n",
    "            numero_letras = en_letras+\" \"+numero_letras\n",
    "        elif a==1:\n",
    "            if contador in (1,3):\n",
    "                numero_letras = indicador[contador][0]+\" \"+numero_letras\n",
    "            else:\n",
    "                numero_letras = en_letras+\" \"+indicador[contador][0]+\" \"+numero_letras\n",
    "        else:\n",
    "            numero_letras = en_letras+\" \"+indicador[contador][1]+\" \"+numero_letras\n",
    "        numero_letras = numero_letras.strip()\n",
    "        contador = contador + 1\n",
    "        entero = int(entero / 1000)\n",
    "    numero_letras = numero_letras\n",
    "    #print ('numero: ',numero)\n",
    "    print (numero_letras)"
   ]
  },
  {
   "cell_type": "code",
   "execution_count": 29,
   "metadata": {},
   "outputs": [],
   "source": [
    "def convierte_cifra(numero,sw):\n",
    "    lista_centana = [\"\",(\"CIEN\",\"CIENTO\"),\"DOSCIENTOS\",\"TRESCIENTOS\",\"CUATROCIENTOS\",\"QUINIENTOS\",\"SEISCIENTOS\",\"SETECIENTOS\",\"OCHOCIENTOS\",\"NOVECIENTOS\"]\n",
    "    lista_decena = [\"\",(\"DIEZ\",\"ONCE\",\"DOCE\",\"TRECE\",\"CATORCE\",\"QUINCE\",\"DIECISEIS\",\"DIECISIETE\",\"DIECIOCHO\",\"DIECINUEVE\"),(\"VEINTE\",\"VEINTI\"),(\"TREINTA\",\"TREINTA Y \"),(\"CUARENTA\" , \"CUARENTA Y \"),(\"CINCUENTA\" , \"CINCUENTA Y \"),(\"SESENTA\" , \"SESENTA Y \"),(\"SETENTA\" , \"SETENTA Y \"),(\"OCHENTA\" , \"OCHENTA Y \"),(\"NOVENTA\" , \"NOVENTA Y \")]\n",
    "    lista_unidad = [\"\",(\"UN\" , \"UNO\"),\"DOS\",\"TRES\",\"CUATRO\",\"CINCO\",\"SEIS\",\"SIETE\",\"OCHO\",\"NUEVE\"]\n",
    "    centena = int (numero / 100)\n",
    "    decena = int((numero -(centena * 100))/10)\n",
    "    unidad = int(numero - (centena * 100 + decena * 10))\n",
    "\t#print \"centena: \",centena, \"decena: \",decena,'unidad: ',unidad\n",
    " \n",
    "    texto_centena = \"\"\n",
    "    texto_decena = \"\"\n",
    "    texto_unidad = \"\"\n",
    "\t#Validad las centenas\n",
    "    texto_centena = lista_centana[centena]\n",
    "    if centena == 1:\n",
    "        if (decena + unidad)!=0:\n",
    "            texto_centena = texto_centena[1]\n",
    "        else :\n",
    "            texto_centena = texto_centena[0]\n",
    " \n",
    "\t#Valida las decenas\n",
    "    texto_decena = lista_decena[decena]\n",
    "    if decena == 1:\n",
    "        texto_decena = texto_decena[unidad]\n",
    "    if decena > 1:\n",
    "        if unidad != 0 :\n",
    "            texto_decena = texto_decena[1]\n",
    "        else:\n",
    "            texto_decena = texto_decena[0]\n",
    " \t#Validar las unidades\n",
    " \t#print \"texto_unidad: \",texto_unidad\n",
    "    if decena != 1:\n",
    "        texto_unidad = lista_unidad[unidad]\n",
    "        if unidad == 1:\n",
    "            texto_unidad = texto_unidad[sw]\n",
    "    return \"%s %s%s\" %(texto_centena,texto_decena,texto_unidad)"
   ]
  },
  {
   "cell_type": "code",
   "execution_count": 30,
   "metadata": {},
   "outputs": [
    {
     "name": "stdout",
     "output_type": "stream",
     "text": [
      "Coloque pagina inicial\n",
      "1\n",
      "Coloque pagina final\n",
      "10\n",
      "Pagina  1 ...ok\n",
      "Pagina  2 ...ok\n",
      "Pagina  3 ...ok\n",
      "Pagina  4 ...ok\n",
      "Pagina  5 ...ok\n",
      "Pagina  6 ...ok\n",
      "Pagina  7 ...ok\n",
      "Pagina  8 ...ok\n",
      "Pagina  9 ...ok\n",
      "Pagina  10 ...ok\n"
     ]
    }
   ],
   "source": [
    "#pedir por consola numeros\n",
    "print(\"Coloque pagina inicial\")\n",
    "pinicial= int(input())\n",
    "print(\"Coloque pagina final\")\n",
    "pfinal= int(input())\n",
    "salto=0\n",
    "posicion=0\n",
    "\n",
    "if(pinicial <= pfinal):\n",
    "    while  pinicial <= pfinal: \n",
    "    #converimos todo el print de la funcion para utilizarlo como variable   \n",
    "        \n",
    "        old_stdout = sys.stdout\n",
    "        new_stdout = io.StringIO()\n",
    "        sys.stdout = new_stdout\n",
    "        numero_to_letras(pinicial)\n",
    "        output = new_stdout.getvalue()\n",
    "        sys.stdout = old_stdout\n",
    "        print(\"Pagina \", pinicial,\"...ok\")\n",
    "        salida=output[:-1]\n",
    "        paragraph = doc.paragraphs[posicion]\n",
    "        run = paragraph.add_run()\n",
    "        run.add_picture('logito.png',width=docx.shared.Inches(0.3),height=docx.shared.Inches(0.3))\n",
    "        run_2 = paragraph.add_run(\" \\t \\t \\t \\t \\t \\t {}\".format(salida))\n",
    "        #doc.paragraphs[posicion].add_run(\"{}\\t \\t \\t \\t \\t \\t \\t \\t \\t \\t\".format(salida)).add_picture('logito.png',width=docx.shared.Inches(0.3),height=docx.shared.Inches(0.3))    \n",
    "        last_paragraph = doc.paragraphs[-1]\n",
    "        last_paragraph.alignment = WD_ALIGN_PARAGRAPH.LEFT\n",
    "        doc.add_paragraph(\"\\t \\t \\t \\t \\t \\t \\t \\t \\t \\t \\t{}\".format(pinicial))\n",
    "        posicion= posicion + 2\n",
    "        if(pinicial != pfinal):\n",
    "            pinicial=pinicial + 1\n",
    "            doc.add_page_break()\n",
    "        else:\n",
    "            pinicial=pinicial + 1\n",
    "            break\n",
    "        \n",
    "    \n",
    "       \n",
    "else:\n",
    "    print(\"pagina inicial mas grande que pagina final \")"
   ]
  },
  {
   "cell_type": "code",
   "execution_count": 31,
   "metadata": {},
   "outputs": [],
   "source": [
    "doc.save('foliador.docx')"
   ]
  },
  {
   "cell_type": "code",
   "execution_count": 15,
   "metadata": {},
   "outputs": [
    {
     "name": "stdout",
     "output_type": "stream",
     "text": [
      "Choose a printer:\n",
      "0 Canon G2010 series\n",
      "1 OneNote (Desktop)\n",
      "2 Microsoft XPS Document Writer\n",
      "3 Microsoft Print to PDF\n",
      "4 Fax\n",
      "0\n",
      "press any key to exitg\n"
     ]
    },
    {
     "data": {
      "text/plain": [
       "'g'"
      ]
     },
     "execution_count": 15,
     "metadata": {},
     "output_type": "execute_result"
    }
   ],
   "source": [
    "#imprime word creado\n",
    "\n",
    "import win32api\n",
    "import win32print\n",
    "from glob import glob\n",
    "\n",
    "# A List containing the system printers\n",
    "all_printers = [printer[2] for printer in win32print.EnumPrinters(2)]\n",
    "# Ask the user to select a printer\n",
    "printer_num = int(input(\"Escoge una impresora:\\n\"+\"\\n\".join([f\"{n} {p}\" for n, p in enumerate(all_printers)])+\"\\n\"))\n",
    "# set the default printer\n",
    "win32print.SetDefaultPrinter(all_printers[printer_num])\n",
    "#pdf_dir = \"D:/path/to/pdf_dir/**/*\"\n",
    "pdf_dir = \"C:/Users/Gabriel/Desktop/codigos/foliador/foliador.docx\"\n",
    "for f in glob(pdf_dir, recursive=True):\n",
    "    win32api.ShellExecute(0, \"print\", f, None,  \".\",  0)\n",
    "\n",
    "input(\"pulsa cualquier boton para salir\")"
   ]
  },
  {
   "cell_type": "code",
   "execution_count": 16,
   "metadata": {},
   "outputs": [],
   "source": [
    "from os import remove\n",
    "remove(\"foliador.docx\")"
   ]
  },
  {
   "cell_type": "code",
   "execution_count": 88,
   "metadata": {},
   "outputs": [
    {
     "data": {
      "text/plain": [
       "[<docx.text.run.Run at 0x16aeddd3df0>, <docx.text.run.Run at 0x16aeddd3af0>]"
      ]
     },
     "execution_count": 88,
     "metadata": {},
     "output_type": "execute_result"
    }
   ],
   "source": [
    "#doc.paragraphs[4].runs"
   ]
  },
  {
   "cell_type": "code",
   "execution_count": null,
   "metadata": {},
   "outputs": [],
   "source": []
  }
 ],
 "metadata": {
  "kernelspec": {
   "display_name": "Python 3",
   "language": "python",
   "name": "python3"
  },
  "language_info": {
   "codemirror_mode": {
    "name": "ipython",
    "version": 3
   },
   "file_extension": ".py",
   "mimetype": "text/x-python",
   "name": "python",
   "nbconvert_exporter": "python",
   "pygments_lexer": "ipython3",
   "version": "3.8.8"
  }
 },
 "nbformat": 4,
 "nbformat_minor": 4
}
